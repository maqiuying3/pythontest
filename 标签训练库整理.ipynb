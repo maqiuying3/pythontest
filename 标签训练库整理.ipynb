{
 "cells": [
  {
   "cell_type": "code",
   "execution_count": 382,
   "metadata": {},
   "outputs": [],
   "source": [
    "import csv\n",
    "import re\n",
    "import pymysql\n",
    "import pandas as pd\n",
    "from scipy import stats\n",
    "from  scipy.stats import chi2_contingency\n",
    "import numpy as np\n",
    "from functools import reduce\n",
    "conn=pymysql.connect(host='mysql-backup.shanzhen.me',\n",
    "                     user='readonly_medicine_maqy',\n",
    "                     password='6WVTr1$My4r99@&w',\n",
    "                     database='asgard_dataplatform',\n",
    "                     port=3001,\n",
    "                     charset='utf8')"
   ]
  },
  {
   "cell_type": "code",
   "execution_count": 383,
   "metadata": {},
   "outputs": [
    {
     "data": {
      "text/plain": [
       "['emr_214_test_out-已核对20200619.csv',\n",
       " 'emr_214_valid_out-已核对20200619.csv',\n",
       " 'emr_238_test_out-已核对.csv',\n",
       " 'emr_238_valid_out-已核对.csv',\n",
       " 'emr_242_test_out-已核对.csv',\n",
       " 'emr_242_valid_out-已核对.csv',\n",
       " 'emr_267_test_out-已核对.csv',\n",
       " 'emr_267_valid_out-已核对.csv',\n",
       " 'emr_308_test_out-已核对.csv',\n",
       " 'emr_308_valid_out-已核对.csv']"
      ]
     },
     "execution_count": 383,
     "metadata": {},
     "output_type": "execute_result"
    }
   ],
   "source": [
    "import os\n",
    "path = 'C:\\\\Users\\\\86187\\\\Desktop\\\\13.tag正确率判断\\\\tag训练库整理\\\\tag训练库'\n",
    "filelist=os.listdir(path)\n",
    "filelist"
   ]
  },
  {
   "cell_type": "code",
   "execution_count": 384,
   "metadata": {},
   "outputs": [],
   "source": [
    "#转换成excel\n",
    "excelpath='C:\\\\Users\\\\86187\\\\Desktop\\\\13.tag正确率判断\\\\tag训练库整理\\\\tag训练库excel'\n",
    "for name in filelist:\n",
    "    filepath=path+'\\\\'+name\n",
    "    df=pd.read_csv(filepath,encoding=\"gbk\",dtype='str')\n",
    "    filepath=excelpath+'\\\\'+name.replace('.csv','.xlsx')\n",
    "    df.to_excel(excel_writer=filepath,index=False)"
   ]
  },
  {
   "cell_type": "code",
   "execution_count": 385,
   "metadata": {},
   "outputs": [],
   "source": [
    "filelist=os.listdir(excelpath)\n",
    "trainmerge=pd.DataFrame(columns=['line_number','tagname','tex'])\n",
    "outputpath='C:\\\\Users\\\\86187\\\\Desktop\\\\13.tag正确率判断\\\\tag训练库整理\\\\tag训练库转换后'\n",
    "for name in filelist:\n",
    "    filepath=excelpath+'\\\\'+name\n",
    "    df=pd.read_excel(filepath,dtype='str')\n",
    "    #将列名标准化一下\n",
    "    if 'model_tag错误' in df.columns.tolist():\n",
    "        df.rename(columns={'model_tag错误':'model_tags错误'},inplace = True)\n",
    "    if 'models_tags错误' in df.columns.tolist():\n",
    "        df.rename(columns={'models_tags错误':'model_tags错误'},inplace = True)\n",
    "    if 'tags_错误' in df.columns.tolist():\n",
    "        df.rename(columns={'tags_错误':'tags错误'},inplace = True)\n",
    "    if '正确标签' in df.columns.tolist():\n",
    "        df.rename(columns={'正确标签':'正确的'},inplace = True)\n",
    "    df['tag']=1\n",
    "    #得到正确的tag表格\n",
    "    for i in range(len(df)):\n",
    "        if (df.iloc[i]['model_tags错误']=='TRUE') & (pd.isna(df.iloc[i]['tags错误'])==True):\n",
    "            df.iloc[i,df.columns.tolist().index('tag')]=df.iloc[i]['tags']\n",
    "        elif (pd.isna(df.iloc[i]['model_tags错误'])==True) & (df.iloc[i]['tags错误']=='TRUE'):\n",
    "            df.iloc[i,df.columns.tolist().index('tag')]=df.iloc[i]['model_tags']\n",
    "        elif (df.iloc[i]['model_tags错误']=='TRUE') & (df.iloc[i]['tags错误']=='TRUE'):\n",
    "            df.iloc[i,df.columns.tolist().index('tag')]=df.iloc[i]['正确的']\n",
    "    dfnew=df[['line_number','text','tag']]\n",
    "    filepath=outputpath+'\\\\'+name.replace('.csv','.xlsx')\n",
    "    dfnew.to_excel(excel_writer=filepath,index=False)\n",
    "    \n",
    "    #求tag数目总数目，然后计算需要多少行来匹配\n",
    "    lenth=0\n",
    "    for line in range(len(dfnew)):\n",
    "        alltag=df.iloc[line]['tag'].split(',')\n",
    "        lenth=len(alltag)+lenth\n",
    "    train=pd.DataFrame(np.random.rand(lenth*3).reshape(lenth,3),columns=['line_number','tagname','tex'])\n",
    "    #对于每一行，提取出tag和文本，放到新表里\n",
    "    l=0\n",
    "    for a in range(len(dfnew)):\n",
    "        alltag=df.iloc[a]['tag'].split(',')    \n",
    "        for b in range(len(alltag)):\n",
    "            train.iloc[l+b,0]=dfnew.iloc[a]['line_number']\n",
    "            train.iloc[l+b,1]=alltag[b]\n",
    "            train.iloc[l+b,2]=dfnew.iloc[a]['text']      \n",
    "        l=l+len(alltag)\n",
    "    trainpath=outputpath+'\\\\'+'train'+name.replace('.csv','.xlsx')\n",
    "    train.to_excel(excel_writer=trainpath,index=False)\n",
    "    trainmerge = pd.concat([trainmerge,train],axis = 0)\n",
    "trainmerge.to_excel(excel_writer='C:\\\\Users\\\\86187\\\\Desktop\\\\13.tag正确率判断\\\\tag训练库整理\\\\trainmerge.xlsx',index=False)  "
   ]
  },
  {
   "cell_type": "code",
   "execution_count": 402,
   "metadata": {},
   "outputs": [
    {
     "name": "stdout",
     "output_type": "stream",
     "text": [
      "<class 'pandas.core.frame.DataFrame'>\n",
      "Int64Index: 34675 entries, 0 to 3548\n",
      "Data columns (total 2 columns):\n",
      " #   Column       Non-Null Count  Dtype \n",
      "---  ------       --------------  ----- \n",
      " 0   line_number  34675 non-null  object\n",
      " 1   tex          34675 non-null  object\n",
      "dtypes: object(2)\n",
      "memory usage: 812.7+ KB\n"
     ]
    }
   ],
   "source": [
    "trainmerge.to_excel(excel_writer='C:\\\\Users\\\\86187\\\\Desktop\\\\13.tag正确率判断\\\\tag训练库整理\\\\trainmerge.xlsx',index=False)  "
   ]
  }
 ],
 "metadata": {
  "kernelspec": {
   "display_name": "Python 3",
   "language": "python",
   "name": "python3"
  },
  "language_info": {
   "codemirror_mode": {
    "name": "ipython",
    "version": 3
   },
   "file_extension": ".py",
   "mimetype": "text/x-python",
   "name": "python",
   "nbconvert_exporter": "python",
   "pygments_lexer": "ipython3",
   "version": "3.7.6"
  },
  "toc": {
   "base_numbering": 1,
   "nav_menu": {},
   "number_sections": true,
   "sideBar": true,
   "skip_h1_title": false,
   "title_cell": "Table of Contents",
   "title_sidebar": "Contents",
   "toc_cell": false,
   "toc_position": {},
   "toc_section_display": true,
   "toc_window_display": false
  }
 },
 "nbformat": 4,
 "nbformat_minor": 4
}
